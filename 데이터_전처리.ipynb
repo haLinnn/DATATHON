{
 "cells": [
  {
   "cell_type": "code",
   "execution_count": 1,
   "id": "5dcee745",
   "metadata": {},
   "outputs": [],
   "source": [
    "import pandas as pd\n",
    "import numpy as np\n",
    "import matplotlib.pyplot as plt\n",
    "import koreanize_matplotlib\n",
    "import seaborn as sns\n",
    "path = '.'"
   ]
  },
  {
   "cell_type": "markdown",
   "id": "619327b6",
   "metadata": {},
   "source": [
    "# Holiday_Events.csv"
   ]
  },
  {
   "cell_type": "code",
   "execution_count": 2,
   "id": "8daa027a",
   "metadata": {},
   "outputs": [],
   "source": [
    "holiday = pd.read_csv(f\"{path}/holidays_events.csv\")"
   ]
  },
  {
   "cell_type": "code",
   "execution_count": 3,
   "id": "540b0296",
   "metadata": {},
   "outputs": [
    {
     "data": {
      "text/html": [
       "<div>\n",
       "<style scoped>\n",
       "    .dataframe tbody tr th:only-of-type {\n",
       "        vertical-align: middle;\n",
       "    }\n",
       "\n",
       "    .dataframe tbody tr th {\n",
       "        vertical-align: top;\n",
       "    }\n",
       "\n",
       "    .dataframe thead th {\n",
       "        text-align: right;\n",
       "    }\n",
       "</style>\n",
       "<table border=\"1\" class=\"dataframe\">\n",
       "  <thead>\n",
       "    <tr style=\"text-align: right;\">\n",
       "      <th></th>\n",
       "      <th>날짜</th>\n",
       "      <th>휴일유형</th>\n",
       "      <th>지역단위</th>\n",
       "      <th>지역명</th>\n",
       "      <th>휴일명</th>\n",
       "      <th>이전여부</th>\n",
       "    </tr>\n",
       "  </thead>\n",
       "  <tbody>\n",
       "    <tr>\n",
       "      <th>0</th>\n",
       "      <td>2012-03-02</td>\n",
       "      <td>Holiday</td>\n",
       "      <td>Local</td>\n",
       "      <td>Manta</td>\n",
       "      <td>Fundacion de Manta</td>\n",
       "      <td>False</td>\n",
       "    </tr>\n",
       "    <tr>\n",
       "      <th>1</th>\n",
       "      <td>2012-04-01</td>\n",
       "      <td>Holiday</td>\n",
       "      <td>Regional</td>\n",
       "      <td>Cotopaxi</td>\n",
       "      <td>Provincializacion de Cotopaxi</td>\n",
       "      <td>False</td>\n",
       "    </tr>\n",
       "    <tr>\n",
       "      <th>2</th>\n",
       "      <td>2012-04-12</td>\n",
       "      <td>Holiday</td>\n",
       "      <td>Local</td>\n",
       "      <td>Cuenca</td>\n",
       "      <td>Fundacion de Cuenca</td>\n",
       "      <td>False</td>\n",
       "    </tr>\n",
       "    <tr>\n",
       "      <th>3</th>\n",
       "      <td>2012-04-14</td>\n",
       "      <td>Holiday</td>\n",
       "      <td>Local</td>\n",
       "      <td>Libertad</td>\n",
       "      <td>Cantonizacion de Libertad</td>\n",
       "      <td>False</td>\n",
       "    </tr>\n",
       "    <tr>\n",
       "      <th>4</th>\n",
       "      <td>2012-04-21</td>\n",
       "      <td>Holiday</td>\n",
       "      <td>Local</td>\n",
       "      <td>Riobamba</td>\n",
       "      <td>Cantonizacion de Riobamba</td>\n",
       "      <td>False</td>\n",
       "    </tr>\n",
       "  </tbody>\n",
       "</table>\n",
       "</div>"
      ],
      "text/plain": [
       "           날짜     휴일유형      지역단위       지역명                            휴일명  \\\n",
       "0  2012-03-02  Holiday     Local     Manta             Fundacion de Manta   \n",
       "1  2012-04-01  Holiday  Regional  Cotopaxi  Provincializacion de Cotopaxi   \n",
       "2  2012-04-12  Holiday     Local    Cuenca            Fundacion de Cuenca   \n",
       "3  2012-04-14  Holiday     Local  Libertad      Cantonizacion de Libertad   \n",
       "4  2012-04-21  Holiday     Local  Riobamba      Cantonizacion de Riobamba   \n",
       "\n",
       "    이전여부  \n",
       "0  False  \n",
       "1  False  \n",
       "2  False  \n",
       "3  False  \n",
       "4  False  "
      ]
     },
     "metadata": {},
     "output_type": "display_data"
    },
    {
     "name": "stdout",
     "output_type": "stream",
     "text": [
      "(350, 6)\n"
     ]
    },
    {
     "data": {
      "text/plain": [
       "0"
      ]
     },
     "execution_count": 3,
     "metadata": {},
     "output_type": "execute_result"
    }
   ],
   "source": [
    "#1. 컬럼명 한글화\n",
    "columns = ['날짜','휴일유형','지역단위','지역명','휴일명','이전여부']\n",
    "holiday.columns = columns\n",
    "\n",
    "#2. 데이터 확인\n",
    "display(holiday.head(5))\n",
    "print(holiday.shape)\n",
    "\n",
    "#3. 결측치 확인 및 처리\n",
    "holiday.isnull().sum().sum()"
   ]
  },
  {
   "cell_type": "markdown",
   "id": "610b1e4d",
   "metadata": {},
   "source": [
    "# oil.csv"
   ]
  },
  {
   "cell_type": "markdown",
   "id": "476cc960",
   "metadata": {},
   "source": [
    "* 에콰도르의 유일한 석유 회사인 Petroecuador에서 매일 공개하는 국제유가 정보\n",
    "* 에콰도르가 석유 의존적(석유가격이 국가경제에 큰 영향)인 국가\n",
    "\n",
    "  => 오일쇼크에 매우 취약한 경제 상태에 놓여있다는 것을 의미\n"
   ]
  },
  {
   "cell_type": "code",
   "execution_count": 4,
   "id": "3c1eb214",
   "metadata": {},
   "outputs": [
    {
     "data": {
      "text/html": [
       "<div>\n",
       "<style scoped>\n",
       "    .dataframe tbody tr th:only-of-type {\n",
       "        vertical-align: middle;\n",
       "    }\n",
       "\n",
       "    .dataframe tbody tr th {\n",
       "        vertical-align: top;\n",
       "    }\n",
       "\n",
       "    .dataframe thead th {\n",
       "        text-align: right;\n",
       "    }\n",
       "</style>\n",
       "<table border=\"1\" class=\"dataframe\">\n",
       "  <thead>\n",
       "    <tr style=\"text-align: right;\">\n",
       "      <th></th>\n",
       "      <th>날짜</th>\n",
       "      <th>국제유가</th>\n",
       "    </tr>\n",
       "  </thead>\n",
       "  <tbody>\n",
       "    <tr>\n",
       "      <th>0</th>\n",
       "      <td>2013-01-01</td>\n",
       "      <td>NaN</td>\n",
       "    </tr>\n",
       "    <tr>\n",
       "      <th>1</th>\n",
       "      <td>2013-01-02</td>\n",
       "      <td>93.14</td>\n",
       "    </tr>\n",
       "    <tr>\n",
       "      <th>2</th>\n",
       "      <td>2013-01-03</td>\n",
       "      <td>92.97</td>\n",
       "    </tr>\n",
       "    <tr>\n",
       "      <th>3</th>\n",
       "      <td>2013-01-04</td>\n",
       "      <td>93.12</td>\n",
       "    </tr>\n",
       "    <tr>\n",
       "      <th>4</th>\n",
       "      <td>2013-01-07</td>\n",
       "      <td>93.20</td>\n",
       "    </tr>\n",
       "  </tbody>\n",
       "</table>\n",
       "</div>"
      ],
      "text/plain": [
       "           날짜   국제유가\n",
       "0  2013-01-01    NaN\n",
       "1  2013-01-02  93.14\n",
       "2  2013-01-03  92.97\n",
       "3  2013-01-04  93.12\n",
       "4  2013-01-07  93.20"
      ]
     },
     "metadata": {},
     "output_type": "display_data"
    },
    {
     "name": "stdout",
     "output_type": "stream",
     "text": [
      "(1218, 2)\n"
     ]
    },
    {
     "data": {
      "text/plain": [
       "날짜       0\n",
       "국제유가    43\n",
       "dtype: int64"
      ]
     },
     "execution_count": 4,
     "metadata": {},
     "output_type": "execute_result"
    }
   ],
   "source": [
    "# 2013/01/01 - 2017/08/31의 일일 국제유가\n",
    "oil_df = pd.read_csv(f\"{path}/oil.csv\")\n",
    "\n",
    "# 1. 컬럼명 한글화\n",
    "columns = ['날짜','국제유가']\n",
    "oil_df.columns = columns\n",
    "\n",
    "# 2. 데이터 확인\n",
    "display(oil_df.head(5))\n",
    "print(oil_df.shape)\n",
    "\n",
    "# 3. 결측치 확인\n",
    "oil_df.isnull().sum()"
   ]
  },
  {
   "cell_type": "code",
   "execution_count": 5,
   "id": "54bd86b9",
   "metadata": {},
   "outputs": [
    {
     "data": {
      "text/plain": [
       "0"
      ]
     },
     "execution_count": 5,
     "metadata": {},
     "output_type": "execute_result"
    }
   ],
   "source": [
    "# 3-1. 결측치 처리 -> 43개 존재\n",
    "\n",
    "# 데이터 특성상 유가가 0 ->  데이터 분석하는데 있어서 악영향  \n",
    "# 해당 월의 중간값으로 설정\n",
    "# => 전체 날짜의 평균으로 하면 해당 시기의 유가 흐름을 반영하지 못할수도 있으므로 \n",
    "\n",
    "oil = oil_df.copy()\n",
    "oil['날짜'] = pd.to_datetime(oil['날짜'])\n",
    "\n",
    "def 일일유가채우기(df):\n",
    "    \n",
    "    year_list = df['날짜'].dt.year.unique()\n",
    "    month_list = df['날짜'].dt.month.unique()\n",
    "    \n",
    "    for year in year_list:\n",
    "        for month in month_list:\n",
    "            condition = (df['날짜'].dt.year == year) & (df['날짜'].dt.month == month)\n",
    "            median = df.loc[condition, '국제유가'].median()\n",
    "            df.loc[condition & df['국제유가'].isna(), '국제유가'] = median\n",
    "            \n",
    "    return df\n",
    "\n",
    "일일유가채우기(oil)\n",
    "oil['국제유가'].isnull().sum()"
   ]
  },
  {
   "cell_type": "code",
   "execution_count": 6,
   "id": "c7f31ce6",
   "metadata": {
    "scrolled": true
   },
   "outputs": [
    {
     "data": {
      "text/plain": [
       "<AxesSubplot:xlabel='날짜', ylabel='국제유가'>"
      ]
     },
     "execution_count": 6,
     "metadata": {},
     "output_type": "execute_result"
    },
    {
     "data": {
      "image/png": "[encoded data removed]",
      "text/plain": [
       "<Figure size 640x480 with 1 Axes>"
      ]
     },
     "metadata": {},
     "output_type": "display_data"
    }
   ],
   "source": [
    "# 4. 시각화 해보기\n",
    "\n",
    "# 4-1. Insight 발굴 => 15년도 초 & 16년도 초 국제유가 폭락의원인은?\n",
    "# 석유 생산량 & 다양한 원인으로 인한 수요감소\n",
    "\n",
    "# 국제유가 감소했다는 것은 에콰도르 경제상태 악화\n",
    "# 원유 수출이 국민소득 및 국가 예산의 대다수를 차지하는 국가\n",
    "\n",
    "# 국제 유가지수가 감소하면, 에콰도르가 원유 수출을 통해 얻는 수익 감소 -> 물가 상승 등 경제에 부정적 영향\n",
    "# => 이 시기에 판매량이 증가 및 감소한 family(사업부문) -> 추후 유가 감소 예상 시 promotion 등 진행가능\n",
    "\n",
    "sns.lineplot(data=oil, x='날짜',y='국제유가')"
   ]
  },
  {
   "attachments": {
    "image.png": {
     "image/png": "[encoded data removed]"
    }
   },
   "cell_type": "markdown",
   "id": "810caca8",
   "metadata": {},
   "source": [
    "![image.png](attachment:image.png)\n",
    "\n",
    "1) OPEC와 비석유생산국 생산량 증가 & 세계적으로 수요 감소(미국의 천연가스 생산 증가 등)\n",
    "\n",
    "   * 생산량유지 -> 수요부진에 대처 미흡 -> 생산량과다 -> 유가폭락"
   ]
  },
  {
   "cell_type": "code",
   "execution_count": 7,
   "id": "0e870670",
   "metadata": {},
   "outputs": [],
   "source": [
    "oil['날짜'] = oil['날짜'].astype(str)"
   ]
  },
  {
   "cell_type": "markdown",
   "id": "13f4bb2e",
   "metadata": {},
   "source": [
    "# stores.csv "
   ]
  },
  {
   "cell_type": "markdown",
   "id": "fdbc65a6",
   "metadata": {},
   "source": [
    "store_nbr : 매장번호(정수형)\n",
    "\n",
    "city: 매장이 위치한 도시(문자열)\n",
    "\n",
    "state: 매장이 위치한 주(문자열)\n",
    "\n",
    "type: 매장의 유형(문자열)\n",
    "매장의 크기와 제공하는 상품의 종류에 따라 구분\n",
    "\n",
    "cluster : 매장 별 클러스터(정수형)\n",
    "매장의 위치와 유형, 상품 등의 정보를 바탕으로 비슷한 그룹을 한 그룹으로 묶어놓음\n",
    "\n",
    "* store_nbr을 기준으로 merge 하면 어떤 시티, 주 에서 type별로 어떤 제품을 판매하는지,\n",
    "어떤 기준으로 clustering 되어있는지 확인해보기"
   ]
  },
  {
   "cell_type": "code",
   "execution_count": 8,
   "id": "d1ff8f1f",
   "metadata": {},
   "outputs": [
    {
     "data": {
      "text/html": [
       "<div>\n",
       "<style scoped>\n",
       "    .dataframe tbody tr th:only-of-type {\n",
       "        vertical-align: middle;\n",
       "    }\n",
       "\n",
       "    .dataframe tbody tr th {\n",
       "        vertical-align: top;\n",
       "    }\n",
       "\n",
       "    .dataframe thead th {\n",
       "        text-align: right;\n",
       "    }\n",
       "</style>\n",
       "<table border=\"1\" class=\"dataframe\">\n",
       "  <thead>\n",
       "    <tr style=\"text-align: right;\">\n",
       "      <th></th>\n",
       "      <th>매장번호</th>\n",
       "      <th>매장위치(도시)</th>\n",
       "      <th>매장위치(주)</th>\n",
       "      <th>매장유형</th>\n",
       "      <th>매장군집화</th>\n",
       "    </tr>\n",
       "  </thead>\n",
       "  <tbody>\n",
       "    <tr>\n",
       "      <th>0</th>\n",
       "      <td>1</td>\n",
       "      <td>Quito</td>\n",
       "      <td>Pichincha</td>\n",
       "      <td>D</td>\n",
       "      <td>13</td>\n",
       "    </tr>\n",
       "    <tr>\n",
       "      <th>1</th>\n",
       "      <td>2</td>\n",
       "      <td>Quito</td>\n",
       "      <td>Pichincha</td>\n",
       "      <td>D</td>\n",
       "      <td>13</td>\n",
       "    </tr>\n",
       "    <tr>\n",
       "      <th>2</th>\n",
       "      <td>3</td>\n",
       "      <td>Quito</td>\n",
       "      <td>Pichincha</td>\n",
       "      <td>D</td>\n",
       "      <td>8</td>\n",
       "    </tr>\n",
       "    <tr>\n",
       "      <th>3</th>\n",
       "      <td>4</td>\n",
       "      <td>Quito</td>\n",
       "      <td>Pichincha</td>\n",
       "      <td>D</td>\n",
       "      <td>9</td>\n",
       "    </tr>\n",
       "    <tr>\n",
       "      <th>4</th>\n",
       "      <td>5</td>\n",
       "      <td>Santo Domingo</td>\n",
       "      <td>Santo Domingo de los Tsachilas</td>\n",
       "      <td>D</td>\n",
       "      <td>4</td>\n",
       "    </tr>\n",
       "  </tbody>\n",
       "</table>\n",
       "</div>"
      ],
      "text/plain": [
       "   매장번호       매장위치(도시)                         매장위치(주) 매장유형  매장군집화\n",
       "0     1          Quito                       Pichincha    D     13\n",
       "1     2          Quito                       Pichincha    D     13\n",
       "2     3          Quito                       Pichincha    D      8\n",
       "3     4          Quito                       Pichincha    D      9\n",
       "4     5  Santo Domingo  Santo Domingo de los Tsachilas    D      4"
      ]
     },
     "metadata": {},
     "output_type": "display_data"
    },
    {
     "name": "stdout",
     "output_type": "stream",
     "text": [
      "(54, 5)\n"
     ]
    },
    {
     "data": {
      "text/plain": [
       "0"
      ]
     },
     "execution_count": 8,
     "metadata": {},
     "output_type": "execute_result"
    }
   ],
   "source": [
    "stores = pd.read_csv(f'{path}/stores.csv')\n",
    "\n",
    "#1. 컬럼명 한글화\n",
    "columns = ['매장번호', '매장위치(도시)','매장위치(주)','매장유형','매장군집화']\n",
    "stores.columns = columns\n",
    "\n",
    "#2. 데이터확인\n",
    "display(stores.head(5))\n",
    "print(stores.shape)\n",
    "\n",
    "#3. 결측치 확인 및 처리\n",
    "stores.isnull().sum().sum()"
   ]
  },
  {
   "cell_type": "code",
   "execution_count": 9,
   "id": "ecf19d57",
   "metadata": {},
   "outputs": [],
   "source": [
    "# 수도인 'Quito'지역 매장들의 매장정보\n",
    "stores_qu = stores.loc[(stores['매장위치(도시)'] == 'Quito')]\n",
    "\n",
    "# 'Quito'지역 매장들의 매장번호\n",
    "qu_store_num = stores_qu['매장번호'].unique()"
   ]
  },
  {
   "cell_type": "markdown",
   "id": "67b3faf0",
   "metadata": {},
   "source": [
    "# transaction.csv"
   ]
  },
  {
   "cell_type": "markdown",
   "id": "f258f94c",
   "metadata": {},
   "source": [
    "transactions : 각 매장에서 해당 날짜에 발생한 거래 수(매출 건수)"
   ]
  },
  {
   "cell_type": "code",
   "execution_count": 10,
   "id": "f54d33e4",
   "metadata": {},
   "outputs": [
    {
     "data": {
      "text/html": [
       "<div>\n",
       "<style scoped>\n",
       "    .dataframe tbody tr th:only-of-type {\n",
       "        vertical-align: middle;\n",
       "    }\n",
       "\n",
       "    .dataframe tbody tr th {\n",
       "        vertical-align: top;\n",
       "    }\n",
       "\n",
       "    .dataframe thead th {\n",
       "        text-align: right;\n",
       "    }\n",
       "</style>\n",
       "<table border=\"1\" class=\"dataframe\">\n",
       "  <thead>\n",
       "    <tr style=\"text-align: right;\">\n",
       "      <th></th>\n",
       "      <th>날짜</th>\n",
       "      <th>매장번호</th>\n",
       "      <th>거래건수</th>\n",
       "    </tr>\n",
       "  </thead>\n",
       "  <tbody>\n",
       "    <tr>\n",
       "      <th>0</th>\n",
       "      <td>2013-01-01</td>\n",
       "      <td>25</td>\n",
       "      <td>770</td>\n",
       "    </tr>\n",
       "    <tr>\n",
       "      <th>1</th>\n",
       "      <td>2013-01-02</td>\n",
       "      <td>1</td>\n",
       "      <td>2111</td>\n",
       "    </tr>\n",
       "    <tr>\n",
       "      <th>2</th>\n",
       "      <td>2013-01-02</td>\n",
       "      <td>2</td>\n",
       "      <td>2358</td>\n",
       "    </tr>\n",
       "    <tr>\n",
       "      <th>3</th>\n",
       "      <td>2013-01-02</td>\n",
       "      <td>3</td>\n",
       "      <td>3487</td>\n",
       "    </tr>\n",
       "    <tr>\n",
       "      <th>4</th>\n",
       "      <td>2013-01-02</td>\n",
       "      <td>4</td>\n",
       "      <td>1922</td>\n",
       "    </tr>\n",
       "  </tbody>\n",
       "</table>\n",
       "</div>"
      ],
      "text/plain": [
       "           날짜  매장번호  거래건수\n",
       "0  2013-01-01    25   770\n",
       "1  2013-01-02     1  2111\n",
       "2  2013-01-02     2  2358\n",
       "3  2013-01-02     3  3487\n",
       "4  2013-01-02     4  1922"
      ]
     },
     "metadata": {},
     "output_type": "display_data"
    },
    {
     "name": "stdout",
     "output_type": "stream",
     "text": [
      "(83488, 3)\n",
      "0\n"
     ]
    }
   ],
   "source": [
    "transactions = pd.read_csv(f'{path}/transactions.csv')\n",
    "\n",
    "#1. 컬럼명 한글화\n",
    "columns = ['날짜','매장번호','거래건수']\n",
    "transactions.columns = columns\n",
    "\n",
    "#2. 데이터 확인\n",
    "display(transactions.head(5))\n",
    "print(transactions.shape)\n",
    "\n",
    "#3. 결측치 확인\n",
    "print(transactions.isnull().sum().sum())\n",
    "\n",
    "#4. 수도 'Quito' 지역의 거래건수\n",
    "qu_trans = transactions.loc[transactions['매장번호'].isin(qu_store_num)]"
   ]
  },
  {
   "cell_type": "markdown",
   "id": "6e5245b9",
   "metadata": {},
   "source": [
    "# train & test.csv"
   ]
  },
  {
   "cell_type": "code",
   "execution_count": 11,
   "id": "d55cc854",
   "metadata": {},
   "outputs": [],
   "source": [
    "train = pd.read_csv(f'{path}/train.csv')\n",
    "test = pd.read_csv(f'{path}/test.csv')"
   ]
  },
  {
   "cell_type": "code",
   "execution_count": 12,
   "id": "f1b09342",
   "metadata": {},
   "outputs": [
    {
     "data": {
      "text/html": [
       "<div>\n",
       "<style scoped>\n",
       "    .dataframe tbody tr th:only-of-type {\n",
       "        vertical-align: middle;\n",
       "    }\n",
       "\n",
       "    .dataframe tbody tr th {\n",
       "        vertical-align: top;\n",
       "    }\n",
       "\n",
       "    .dataframe thead th {\n",
       "        text-align: right;\n",
       "    }\n",
       "</style>\n",
       "<table border=\"1\" class=\"dataframe\">\n",
       "  <thead>\n",
       "    <tr style=\"text-align: right;\">\n",
       "      <th></th>\n",
       "      <th>고유식별번호</th>\n",
       "      <th>날짜</th>\n",
       "      <th>매장번호</th>\n",
       "      <th>품목분류</th>\n",
       "      <th>판매량</th>\n",
       "      <th>프로모션진행개수</th>\n",
       "    </tr>\n",
       "  </thead>\n",
       "  <tbody>\n",
       "    <tr>\n",
       "      <th>0</th>\n",
       "      <td>0</td>\n",
       "      <td>2013-01-01</td>\n",
       "      <td>1</td>\n",
       "      <td>AUTOMOTIVE</td>\n",
       "      <td>0.0</td>\n",
       "      <td>0</td>\n",
       "    </tr>\n",
       "    <tr>\n",
       "      <th>1</th>\n",
       "      <td>1</td>\n",
       "      <td>2013-01-01</td>\n",
       "      <td>1</td>\n",
       "      <td>BABY CARE</td>\n",
       "      <td>0.0</td>\n",
       "      <td>0</td>\n",
       "    </tr>\n",
       "    <tr>\n",
       "      <th>2</th>\n",
       "      <td>2</td>\n",
       "      <td>2013-01-01</td>\n",
       "      <td>1</td>\n",
       "      <td>BEAUTY</td>\n",
       "      <td>0.0</td>\n",
       "      <td>0</td>\n",
       "    </tr>\n",
       "  </tbody>\n",
       "</table>\n",
       "</div>"
      ],
      "text/plain": [
       "   고유식별번호          날짜  매장번호        품목분류  판매량  프로모션진행개수\n",
       "0       0  2013-01-01     1  AUTOMOTIVE  0.0         0\n",
       "1       1  2013-01-01     1   BABY CARE  0.0         0\n",
       "2       2  2013-01-01     1      BEAUTY  0.0         0"
      ]
     },
     "metadata": {},
     "output_type": "display_data"
    },
    {
     "data": {
      "text/html": [
       "<div>\n",
       "<style scoped>\n",
       "    .dataframe tbody tr th:only-of-type {\n",
       "        vertical-align: middle;\n",
       "    }\n",
       "\n",
       "    .dataframe tbody tr th {\n",
       "        vertical-align: top;\n",
       "    }\n",
       "\n",
       "    .dataframe thead th {\n",
       "        text-align: right;\n",
       "    }\n",
       "</style>\n",
       "<table border=\"1\" class=\"dataframe\">\n",
       "  <thead>\n",
       "    <tr style=\"text-align: right;\">\n",
       "      <th></th>\n",
       "      <th>고유식별번호</th>\n",
       "      <th>날짜</th>\n",
       "      <th>매장번호</th>\n",
       "      <th>품목분류</th>\n",
       "      <th>프로모션진행개수</th>\n",
       "    </tr>\n",
       "  </thead>\n",
       "  <tbody>\n",
       "    <tr>\n",
       "      <th>0</th>\n",
       "      <td>3000888</td>\n",
       "      <td>2017-08-16</td>\n",
       "      <td>1</td>\n",
       "      <td>AUTOMOTIVE</td>\n",
       "      <td>0</td>\n",
       "    </tr>\n",
       "    <tr>\n",
       "      <th>1</th>\n",
       "      <td>3000889</td>\n",
       "      <td>2017-08-16</td>\n",
       "      <td>1</td>\n",
       "      <td>BABY CARE</td>\n",
       "      <td>0</td>\n",
       "    </tr>\n",
       "    <tr>\n",
       "      <th>2</th>\n",
       "      <td>3000890</td>\n",
       "      <td>2017-08-16</td>\n",
       "      <td>1</td>\n",
       "      <td>BEAUTY</td>\n",
       "      <td>2</td>\n",
       "    </tr>\n",
       "  </tbody>\n",
       "</table>\n",
       "</div>"
      ],
      "text/plain": [
       "    고유식별번호          날짜  매장번호        품목분류  프로모션진행개수\n",
       "0  3000888  2017-08-16     1  AUTOMOTIVE         0\n",
       "1  3000889  2017-08-16     1   BABY CARE         0\n",
       "2  3000890  2017-08-16     1      BEAUTY         2"
      ]
     },
     "metadata": {},
     "output_type": "display_data"
    },
    {
     "data": {
      "text/plain": [
       "((3000888, 6), (28512, 5))"
      ]
     },
     "execution_count": 12,
     "metadata": {},
     "output_type": "execute_result"
    }
   ],
   "source": [
    "#1. 컬럼명 한글화\n",
    "columns_1 = ['고유식별번호','날짜','매장번호','품목분류','판매량','프로모션진행개수']\n",
    "train.columns = columns_1\n",
    "\n",
    "columns_2 = ['고유식별번호','날짜','매장번호','품목분류', '프로모션진행개수']\n",
    "test.columns =columns_2\n",
    "\n",
    "#2. 데이터 확인\n",
    "display(train.head(3))\n",
    "display(test.head(3))\n",
    "train.shape, test.shape"
   ]
  },
  {
   "cell_type": "code",
   "execution_count": 13,
   "id": "d9b0fa33",
   "metadata": {},
   "outputs": [
    {
     "data": {
      "text/html": [
       "<div>\n",
       "<style scoped>\n",
       "    .dataframe tbody tr th:only-of-type {\n",
       "        vertical-align: middle;\n",
       "    }\n",
       "\n",
       "    .dataframe tbody tr th {\n",
       "        vertical-align: top;\n",
       "    }\n",
       "\n",
       "    .dataframe thead th {\n",
       "        text-align: right;\n",
       "    }\n",
       "</style>\n",
       "<table border=\"1\" class=\"dataframe\">\n",
       "  <thead>\n",
       "    <tr style=\"text-align: right;\">\n",
       "      <th></th>\n",
       "      <th>날짜</th>\n",
       "      <th>매장번호</th>\n",
       "      <th>품목분류</th>\n",
       "      <th>판매량</th>\n",
       "      <th>프로모션진행개수</th>\n",
       "      <th>매장위치(도시)</th>\n",
       "      <th>매장위치(주)</th>\n",
       "    </tr>\n",
       "  </thead>\n",
       "  <tbody>\n",
       "    <tr>\n",
       "      <th>0</th>\n",
       "      <td>2013-01-01</td>\n",
       "      <td>1</td>\n",
       "      <td>AUTOMOTIVE</td>\n",
       "      <td>0.0</td>\n",
       "      <td>0</td>\n",
       "      <td>Quito</td>\n",
       "      <td>Pichincha</td>\n",
       "    </tr>\n",
       "    <tr>\n",
       "      <th>1</th>\n",
       "      <td>2013-01-01</td>\n",
       "      <td>1</td>\n",
       "      <td>BABY CARE</td>\n",
       "      <td>0.0</td>\n",
       "      <td>0</td>\n",
       "      <td>Quito</td>\n",
       "      <td>Pichincha</td>\n",
       "    </tr>\n",
       "    <tr>\n",
       "      <th>2</th>\n",
       "      <td>2013-01-01</td>\n",
       "      <td>1</td>\n",
       "      <td>BEAUTY</td>\n",
       "      <td>0.0</td>\n",
       "      <td>0</td>\n",
       "      <td>Quito</td>\n",
       "      <td>Pichincha</td>\n",
       "    </tr>\n",
       "  </tbody>\n",
       "</table>\n",
       "</div>"
      ],
      "text/plain": [
       "           날짜  매장번호        품목분류  판매량  프로모션진행개수 매장위치(도시)    매장위치(주)\n",
       "0  2013-01-01     1  AUTOMOTIVE  0.0         0    Quito  Pichincha\n",
       "1  2013-01-01     1   BABY CARE  0.0         0    Quito  Pichincha\n",
       "2  2013-01-01     1      BEAUTY  0.0         0    Quito  Pichincha"
      ]
     },
     "metadata": {},
     "output_type": "display_data"
    },
    {
     "data": {
      "text/html": [
       "<div>\n",
       "<style scoped>\n",
       "    .dataframe tbody tr th:only-of-type {\n",
       "        vertical-align: middle;\n",
       "    }\n",
       "\n",
       "    .dataframe tbody tr th {\n",
       "        vertical-align: top;\n",
       "    }\n",
       "\n",
       "    .dataframe thead th {\n",
       "        text-align: right;\n",
       "    }\n",
       "</style>\n",
       "<table border=\"1\" class=\"dataframe\">\n",
       "  <thead>\n",
       "    <tr style=\"text-align: right;\">\n",
       "      <th></th>\n",
       "      <th>날짜</th>\n",
       "      <th>매장번호</th>\n",
       "      <th>품목분류</th>\n",
       "      <th>프로모션진행개수</th>\n",
       "      <th>매장위치(도시)</th>\n",
       "      <th>매장위치(주)</th>\n",
       "    </tr>\n",
       "  </thead>\n",
       "  <tbody>\n",
       "    <tr>\n",
       "      <th>0</th>\n",
       "      <td>2017-08-16</td>\n",
       "      <td>1</td>\n",
       "      <td>AUTOMOTIVE</td>\n",
       "      <td>0</td>\n",
       "      <td>Quito</td>\n",
       "      <td>Pichincha</td>\n",
       "    </tr>\n",
       "    <tr>\n",
       "      <th>1</th>\n",
       "      <td>2017-08-16</td>\n",
       "      <td>1</td>\n",
       "      <td>BABY CARE</td>\n",
       "      <td>0</td>\n",
       "      <td>Quito</td>\n",
       "      <td>Pichincha</td>\n",
       "    </tr>\n",
       "    <tr>\n",
       "      <th>2</th>\n",
       "      <td>2017-08-16</td>\n",
       "      <td>1</td>\n",
       "      <td>BEAUTY</td>\n",
       "      <td>2</td>\n",
       "      <td>Quito</td>\n",
       "      <td>Pichincha</td>\n",
       "    </tr>\n",
       "  </tbody>\n",
       "</table>\n",
       "</div>"
      ],
      "text/plain": [
       "           날짜  매장번호        품목분류  프로모션진행개수 매장위치(도시)    매장위치(주)\n",
       "0  2017-08-16     1  AUTOMOTIVE         0    Quito  Pichincha\n",
       "1  2017-08-16     1   BABY CARE         0    Quito  Pichincha\n",
       "2  2017-08-16     1      BEAUTY         2    Quito  Pichincha"
      ]
     },
     "metadata": {},
     "output_type": "display_data"
    },
    {
     "data": {
      "text/plain": [
       "((1000296, 7), (9504, 6))"
      ]
     },
     "execution_count": 13,
     "metadata": {},
     "output_type": "execute_result"
    }
   ],
   "source": [
    "# stores.csv (매장정보) merge\n",
    "train = train.loc[train['매장번호'].isin(qu_store_num)].reset_index()\n",
    "train = train.drop(columns='index')\n",
    "train['판매량']= round(train['판매량'],2)\n",
    "train = train.merge(stores_qu, on='매장번호', how='left')\n",
    "train = train.drop(columns=['고유식별번호','매장유형','매장군집화'])\n",
    "\n",
    "test= test.loc[test['매장번호'].isin(qu_store_num)].reset_index()\n",
    "test = test.drop(columns='index')\n",
    "test = test.merge(stores_qu, on='매장번호', how='left')\n",
    "test = test.drop(columns=['고유식별번호','매장유형','매장군집화'])\n",
    "\n",
    "display(train.head(3))\n",
    "display(test.head(3))\n",
    "train.shape, test.shape"
   ]
  },
  {
   "cell_type": "code",
   "execution_count": 14,
   "id": "699aa237",
   "metadata": {},
   "outputs": [
    {
     "name": "stdout",
     "output_type": "stream",
     "text": [
      "0\n",
      "0\n"
     ]
    }
   ],
   "source": [
    "# oil.csv (국제유가) merge\n",
    "oil_train = oil.loc[:1205,:]\n",
    "oil_test = oil.loc[1205:,:]\n",
    "\n",
    "train = train.merge(oil_train, how='left', on='날짜')\n",
    "test = test.merge(oil_test, how='left', on='날짜')\n",
    "\n",
    "train['날짜'] = pd.to_datetime(train['날짜'])\n",
    "test['날짜'] = pd.to_datetime(test['날짜'])\n",
    "\n",
    "def 일일유가채우기(df):\n",
    "    \n",
    "    year_list = df['날짜'].dt.year.unique()\n",
    "    month_list = df['날짜'].dt.month.unique()\n",
    "    \n",
    "    for year in year_list:\n",
    "        for month in month_list:\n",
    "            condition = (df['날짜'].dt.year == year) & (df['날짜'].dt.month == month)\n",
    "            median = df.loc[condition, '국제유가'].median()\n",
    "            df.loc[condition & df['국제유가'].isna(), '국제유가'] = median\n",
    "            \n",
    "    return df\n",
    "\n",
    "일일유가채우기(train)\n",
    "일일유가채우기(test)\n",
    "\n",
    "train['날짜'] = train['날짜'].astype(str)\n",
    "test['날짜'] = test['날짜'].astype(str)\n",
    "\n",
    "print(train['국제유가'].isnull().sum())\n",
    "print(test['국제유가'].isnull().sum())"
   ]
  },
  {
   "cell_type": "markdown",
   "id": "bdcc09a5",
   "metadata": {},
   "source": [
    "# 파일 저장"
   ]
  },
  {
   "cell_type": "code",
   "execution_count": 17,
   "id": "cd580622",
   "metadata": {},
   "outputs": [],
   "source": [
    "file_name_train = 'train_quito.csv'\n",
    "file_name_test = 'test_quito.csv'\n",
    "\n",
    "train.to_csv(f'{file_name_train}', index=False)\n",
    "test.to_csv(f'{file_name_test}', index=False)"
   ]
  },
  {
   "cell_type": "code",
   "execution_count": 18,
   "id": "9b74f32f",
   "metadata": {},
   "outputs": [
    {
     "data": {
      "text/html": [
       "<div>\n",
       "<style scoped>\n",
       "    .dataframe tbody tr th:only-of-type {\n",
       "        vertical-align: middle;\n",
       "    }\n",
       "\n",
       "    .dataframe tbody tr th {\n",
       "        vertical-align: top;\n",
       "    }\n",
       "\n",
       "    .dataframe thead th {\n",
       "        text-align: right;\n",
       "    }\n",
       "</style>\n",
       "<table border=\"1\" class=\"dataframe\">\n",
       "  <thead>\n",
       "    <tr style=\"text-align: right;\">\n",
       "      <th></th>\n",
       "      <th>날짜</th>\n",
       "      <th>매장번호</th>\n",
       "      <th>품목분류</th>\n",
       "      <th>판매량</th>\n",
       "      <th>프로모션진행개수</th>\n",
       "      <th>매장위치(도시)</th>\n",
       "      <th>매장위치(주)</th>\n",
       "      <th>국제유가</th>\n",
       "    </tr>\n",
       "  </thead>\n",
       "  <tbody>\n",
       "    <tr>\n",
       "      <th>0</th>\n",
       "      <td>2013-01-01</td>\n",
       "      <td>1</td>\n",
       "      <td>AUTOMOTIVE</td>\n",
       "      <td>0.00</td>\n",
       "      <td>0</td>\n",
       "      <td>Quito</td>\n",
       "      <td>Pichincha</td>\n",
       "      <td>94.28</td>\n",
       "    </tr>\n",
       "    <tr>\n",
       "      <th>1</th>\n",
       "      <td>2013-01-01</td>\n",
       "      <td>1</td>\n",
       "      <td>BABY CARE</td>\n",
       "      <td>0.00</td>\n",
       "      <td>0</td>\n",
       "      <td>Quito</td>\n",
       "      <td>Pichincha</td>\n",
       "      <td>94.28</td>\n",
       "    </tr>\n",
       "    <tr>\n",
       "      <th>2</th>\n",
       "      <td>2013-01-01</td>\n",
       "      <td>1</td>\n",
       "      <td>BEAUTY</td>\n",
       "      <td>0.00</td>\n",
       "      <td>0</td>\n",
       "      <td>Quito</td>\n",
       "      <td>Pichincha</td>\n",
       "      <td>94.28</td>\n",
       "    </tr>\n",
       "    <tr>\n",
       "      <th>3</th>\n",
       "      <td>2013-01-01</td>\n",
       "      <td>1</td>\n",
       "      <td>BEVERAGES</td>\n",
       "      <td>0.00</td>\n",
       "      <td>0</td>\n",
       "      <td>Quito</td>\n",
       "      <td>Pichincha</td>\n",
       "      <td>94.28</td>\n",
       "    </tr>\n",
       "    <tr>\n",
       "      <th>4</th>\n",
       "      <td>2013-01-01</td>\n",
       "      <td>1</td>\n",
       "      <td>BOOKS</td>\n",
       "      <td>0.00</td>\n",
       "      <td>0</td>\n",
       "      <td>Quito</td>\n",
       "      <td>Pichincha</td>\n",
       "      <td>94.28</td>\n",
       "    </tr>\n",
       "    <tr>\n",
       "      <th>...</th>\n",
       "      <td>...</td>\n",
       "      <td>...</td>\n",
       "      <td>...</td>\n",
       "      <td>...</td>\n",
       "      <td>...</td>\n",
       "      <td>...</td>\n",
       "      <td>...</td>\n",
       "      <td>...</td>\n",
       "    </tr>\n",
       "    <tr>\n",
       "      <th>1000291</th>\n",
       "      <td>2017-08-15</td>\n",
       "      <td>9</td>\n",
       "      <td>POULTRY</td>\n",
       "      <td>438.13</td>\n",
       "      <td>0</td>\n",
       "      <td>Quito</td>\n",
       "      <td>Pichincha</td>\n",
       "      <td>47.57</td>\n",
       "    </tr>\n",
       "    <tr>\n",
       "      <th>1000292</th>\n",
       "      <td>2017-08-15</td>\n",
       "      <td>9</td>\n",
       "      <td>PREPARED FOODS</td>\n",
       "      <td>154.55</td>\n",
       "      <td>1</td>\n",
       "      <td>Quito</td>\n",
       "      <td>Pichincha</td>\n",
       "      <td>47.57</td>\n",
       "    </tr>\n",
       "    <tr>\n",
       "      <th>1000293</th>\n",
       "      <td>2017-08-15</td>\n",
       "      <td>9</td>\n",
       "      <td>PRODUCE</td>\n",
       "      <td>2419.73</td>\n",
       "      <td>148</td>\n",
       "      <td>Quito</td>\n",
       "      <td>Pichincha</td>\n",
       "      <td>47.57</td>\n",
       "    </tr>\n",
       "    <tr>\n",
       "      <th>1000294</th>\n",
       "      <td>2017-08-15</td>\n",
       "      <td>9</td>\n",
       "      <td>SCHOOL AND OFFICE SUPPLIES</td>\n",
       "      <td>121.00</td>\n",
       "      <td>8</td>\n",
       "      <td>Quito</td>\n",
       "      <td>Pichincha</td>\n",
       "      <td>47.57</td>\n",
       "    </tr>\n",
       "    <tr>\n",
       "      <th>1000295</th>\n",
       "      <td>2017-08-15</td>\n",
       "      <td>9</td>\n",
       "      <td>SEAFOOD</td>\n",
       "      <td>16.00</td>\n",
       "      <td>0</td>\n",
       "      <td>Quito</td>\n",
       "      <td>Pichincha</td>\n",
       "      <td>47.57</td>\n",
       "    </tr>\n",
       "  </tbody>\n",
       "</table>\n",
       "<p>1000296 rows × 8 columns</p>\n",
       "</div>"
      ],
      "text/plain": [
       "                 날짜  매장번호                        품목분류      판매량  프로모션진행개수  \\\n",
       "0        2013-01-01     1                  AUTOMOTIVE     0.00         0   \n",
       "1        2013-01-01     1                   BABY CARE     0.00         0   \n",
       "2        2013-01-01     1                      BEAUTY     0.00         0   \n",
       "3        2013-01-01     1                   BEVERAGES     0.00         0   \n",
       "4        2013-01-01     1                       BOOKS     0.00         0   \n",
       "...             ...   ...                         ...      ...       ...   \n",
       "1000291  2017-08-15     9                     POULTRY   438.13         0   \n",
       "1000292  2017-08-15     9              PREPARED FOODS   154.55         1   \n",
       "1000293  2017-08-15     9                     PRODUCE  2419.73       148   \n",
       "1000294  2017-08-15     9  SCHOOL AND OFFICE SUPPLIES   121.00         8   \n",
       "1000295  2017-08-15     9                     SEAFOOD    16.00         0   \n",
       "\n",
       "        매장위치(도시)    매장위치(주)   국제유가  \n",
       "0          Quito  Pichincha  94.28  \n",
       "1          Quito  Pichincha  94.28  \n",
       "2          Quito  Pichincha  94.28  \n",
       "3          Quito  Pichincha  94.28  \n",
       "4          Quito  Pichincha  94.28  \n",
       "...          ...        ...    ...  \n",
       "1000291    Quito  Pichincha  47.57  \n",
       "1000292    Quito  Pichincha  47.57  \n",
       "1000293    Quito  Pichincha  47.57  \n",
       "1000294    Quito  Pichincha  47.57  \n",
       "1000295    Quito  Pichincha  47.57  \n",
       "\n",
       "[1000296 rows x 8 columns]"
      ]
     },
     "execution_count": 18,
     "metadata": {},
     "output_type": "execute_result"
    }
   ],
   "source": [
    "pd.read_csv('train_quito.csv')"
   ]
  }
 ],
 "metadata": {
  "kernelspec": {
   "display_name": "Python 3 (ipykernel)",
   "language": "python",
   "name": "python3"
  },
  "language_info": {
   "codemirror_mode": {
    "name": "ipython",
    "version": 3
   },
   "file_extension": ".py",
   "mimetype": "text/x-python",
   "name": "python",
   "nbconvert_exporter": "python",
   "pygments_lexer": "ipython3",
   "version": "3.9.13"
  },
  "toc": {
   "base_numbering": 1,
   "nav_menu": {},
   "number_sections": true,
   "sideBar": true,
   "skip_h1_title": false,
   "title_cell": "Table of Contents",
   "title_sidebar": "Contents",
   "toc_cell": false,
   "toc_position": {},
   "toc_section_display": true,
   "toc_window_display": false
  }
 },
 "nbformat": 4,
 "nbformat_minor": 5
}
